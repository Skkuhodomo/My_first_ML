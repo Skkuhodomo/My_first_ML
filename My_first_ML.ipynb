{
  "nbformat": 4,
  "nbformat_minor": 0,
  "metadata": {
    "colab": {
      "provenance": [],
      "toc_visible": true,
      "authorship_tag": "ABX9TyMBy59QmNsuzyaZRFNpDBZt"
    },
    "kernelspec": {
      "name": "python3",
      "display_name": "Python 3"
    },
    "language_info": {
      "name": "python"
    }
  },
  "cells": [
    {
      "cell_type": "code",
      "execution_count": null,
      "metadata": {
        "colab": {
          "base_uri": "https://localhost:8080/"
        },
        "id": "pmm17peYwFQQ",
        "outputId": "294a456d-9948-4b7b-bd7b-b343faf09c41"
      },
      "outputs": [
        {
          "output_type": "stream",
          "name": "stdout",
          "text": [
            "Downloading data from https://storage.googleapis.com/tensorflow/tf-keras-datasets/mnist.npz\n",
            "11490434/11490434 [==============================] - 0s 0us/step\n",
            "60000 60000\n",
            "10000 10000\n",
            "Epoch 1/5\n",
            "1875/1875 [==============================] - 14s 7ms/step - loss: 0.2006\n",
            "Epoch 2/5\n",
            "1875/1875 [==============================] - 8s 4ms/step - loss: 0.0802\n",
            "Epoch 3/5\n",
            "1875/1875 [==============================] - 7s 4ms/step - loss: 0.0500\n",
            "Epoch 4/5\n",
            "1595/1875 [========================>.....] - ETA: 1s - loss: 0.0369"
          ]
        }
      ],
      "source": [
        "import tensorflow as tf\n",
        "from tensorflow import keras\n",
        "\n",
        "\n",
        "\n",
        "(train_images, train_labels), (test_images, test_labels) = keras.datasets.mnist.load_data()\n",
        "\n",
        "print(len(train_images), len(train_labels))\n",
        "print(len(test_images),len(test_labels))\n",
        "\n",
        "train_images= train_images/255.0\n",
        "test_images= test_images/255.0\n",
        "\n",
        "model = keras.models.Sequential([keras.layers.Flatten(input_shape=(28,28)), #[1]\n",
        "                                 keras.layers.Dense(512, activation=tf.nn.relu), #[2]\n",
        "                                 keras.layers.Dense(10, activation=tf.nn.softmax)]) #[3]\n",
        "model.compile(optimizer = 'adam', loss='sparse_categorical_crossentropy')\n",
        "\n",
        "model.fit(train_images, train_labels, epochs=5)\n",
        "\n",
        "model.evaluate(test_images, test_labels)\n",
        "\n",
        "classification = model.predict(test_images)\n",
        "print(classification[100])"
      ]
    }
  ]
}